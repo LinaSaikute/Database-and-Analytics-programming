{
  "nbformat": 4,
  "nbformat_minor": 0,
  "metadata": {
    "colab": {
      "provenance": [],
      "authorship_tag": "ABX9TyOsh3nnmqr64F4UcwTFqHGD",
      "include_colab_link": true
    },
    "kernelspec": {
      "name": "python3",
      "display_name": "Python 3"
    },
    "language_info": {
      "name": "python"
    }
  },
  "cells": [
    {
      "cell_type": "markdown",
      "metadata": {
        "id": "view-in-github",
        "colab_type": "text"
      },
      "source": [
        "<a href=\"https://colab.research.google.com/github/LinaSaikute/Database-and-Analytics-programming/blob/main/Untitled5.ipynb\" target=\"_parent\"><img src=\"https://colab.research.google.com/assets/colab-badge.svg\" alt=\"Open In Colab\"/></a>"
      ]
    },
    {
      "cell_type": "code",
      "execution_count": 3,
      "metadata": {
        "colab": {
          "base_uri": "https://localhost:8080/"
        },
        "id": "CWP8c19c9UkI",
        "outputId": "813987d2-32df-45ce-87a8-d3c244b297d4"
      },
      "outputs": [
        {
          "output_type": "stream",
          "name": "stdout",
          "text": [
            "The rpy2.ipython extension is already loaded. To reload it, use:\n",
            "  %reload_ext rpy2.ipython\n"
          ]
        }
      ],
      "source": [
        " %load_ext rpy2.ipython"
      ]
    },
    {
      "cell_type": "code",
      "source": [
        "%R "
      ],
      "metadata": {
        "id": "NE5Hf0w9-Bg6"
      },
      "execution_count": 6,
      "outputs": []
    },
    {
      "cell_type": "code",
      "source": [
        " %R X=c(1,4,5,7); sd(X); mean(X)"
      ],
      "metadata": {
        "colab": {
          "base_uri": "https://localhost:8080/"
        },
        "id": "NunlqKAb-VVm",
        "outputId": "b4d6a084-ad1a-49fd-de1c-a1eb84ef77c9"
      },
      "execution_count": 9,
      "outputs": [
        {
          "output_type": "execute_result",
          "data": {
            "text/plain": [
              "array([4.25])"
            ]
          },
          "metadata": {},
          "execution_count": 9
        }
      ]
    },
    {
      "cell_type": "code",
      "source": [
        "\n",
        "%R v1 <- c(1, 5, 11, 33)      # Numeric vector, length 4\n",
        "%R v2 <- c(\"hello\",\"world\")    # Character vector, length 2 (a vector of strings)\n",
        "%R v3 <- c(TRUE, TRUE, FALSE)  # Logical vector, same as c(T, T, F)"
      ],
      "metadata": {
        "colab": {
          "base_uri": "https://localhost:8080/",
          "height": 58
        },
        "id": "AiApFYbd-oZZ",
        "outputId": "60b28cc2-1a53-4c70-d3f9-f3e965746589"
      },
      "execution_count": 16,
      "outputs": [
        {
          "output_type": "execute_result",
          "data": {
            "text/plain": [
              "<rpy2.robjects.vectors.BoolVector object at 0x7f61dc3e8230> [RTYPES.LGLSXP]\n",
              "R classes: ('logical',)\n",
              "[       1,        1,        0]"
            ],
            "text/html": [
              "\n",
              "        <span>BoolVector with 3 elements.</span>\n",
              "        <table>\n",
              "        <tbody>\n",
              "          <tr>\n",
              "          \n",
              "            <td>\n",
              "                   1\n",
              "            </td>\n",
              "          \n",
              "            <td>\n",
              "                   1\n",
              "            </td>\n",
              "          \n",
              "            <td>\n",
              "                   0\n",
              "            </td>\n",
              "          \n",
              "          </tr>\n",
              "        </tbody>\n",
              "        </table>\n",
              "        "
            ]
          },
          "metadata": {},
          "execution_count": 16
        }
      ]
    },
    {
      "cell_type": "code",
      "source": [
        "%R v1"
      ],
      "metadata": {
        "colab": {
          "base_uri": "https://localhost:8080/"
        },
        "id": "3gVra10U__3M",
        "outputId": "41500be2-11da-4f42-ec77-72f2af8a0d47"
      },
      "execution_count": 19,
      "outputs": [
        {
          "output_type": "execute_result",
          "data": {
            "text/plain": [
              "array([ 1.,  5., 11., 33.])"
            ]
          },
          "metadata": {},
          "execution_count": 19
        }
      ]
    },
    {
      "cell_type": "code",
      "source": [
        "%R v2"
      ],
      "metadata": {
        "colab": {
          "base_uri": "https://localhost:8080/",
          "height": 58
        },
        "id": "g4--RgB2AF1Z",
        "outputId": "4d50165b-e02d-42e7-87ba-b1ba39c590f6"
      },
      "execution_count": 21,
      "outputs": [
        {
          "output_type": "execute_result",
          "data": {
            "text/plain": [
              "<rpy2.robjects.vectors.StrVector object at 0x7f61dc357e10> [RTYPES.STRSXP]\n",
              "R classes: ('character',)\n",
              "['hello', 'world']"
            ],
            "text/html": [
              "\n",
              "        <span>StrVector with 2 elements.</span>\n",
              "        <table>\n",
              "        <tbody>\n",
              "          <tr>\n",
              "          \n",
              "            <td>\n",
              "            'hello'\n",
              "            </td>\n",
              "          \n",
              "            <td>\n",
              "            'world'\n",
              "            </td>\n",
              "          \n",
              "          </tr>\n",
              "        </tbody>\n",
              "        </table>\n",
              "        "
            ]
          },
          "metadata": {},
          "execution_count": 21
        }
      ]
    },
    {
      "cell_type": "code",
      "source": [],
      "metadata": {
        "id": "buhpMK4CAMrS"
      },
      "execution_count": null,
      "outputs": []
    },
    {
      "cell_type": "code",
      "execution_count": 22,
      "metadata": {
        "colab": {
          "base_uri": "https://localhost:8080/"
        },
        "id": "gJr_9dXGpJ05",
        "outputId": "918f8784-51ec-409c-9c9a-4cb3aa6d540d"
      },
      "outputs": [
        {
          "output_type": "execute_result",
          "data": {
            "text/plain": [
              "86400"
            ]
          },
          "metadata": {},
          "execution_count": 22
        }
      ],
      "source": [
        "seconds_in_a_day = 24 * 60 * 60\n",
        "seconds_in_a_day"
      ]
    }
  ]
}